{
 "cells": [
  {
   "cell_type": "markdown",
   "id": "3c4dcb6b",
   "metadata": {},
   "source": [
    "# Numpy: Numerical Python"
   ]
  },
  {
   "cell_type": "code",
   "execution_count": null,
   "id": "ae896449",
   "metadata": {},
   "outputs": [],
   "source": [
    "!pip install numpy         !conda install numpy"
   ]
  },
  {
   "cell_type": "code",
   "execution_count": 1,
   "id": "e93a3001",
   "metadata": {},
   "outputs": [],
   "source": [
    "import numpy as np"
   ]
  },
  {
   "cell_type": "code",
   "execution_count": 2,
   "id": "73e2f991",
   "metadata": {},
   "outputs": [
    {
     "name": "stdout",
     "output_type": "stream",
     "text": [
      "['ALLOW_THREADS', 'AxisError', 'BUFSIZE', 'CLIP', 'ComplexWarning', 'DataSource', 'ERR_CALL', 'ERR_DEFAULT', 'ERR_IGNORE', 'ERR_LOG', 'ERR_PRINT', 'ERR_RAISE', 'ERR_WARN', 'FLOATING_POINT_SUPPORT', 'FPE_DIVIDEBYZERO', 'FPE_INVALID', 'FPE_OVERFLOW', 'FPE_UNDERFLOW', 'False_', 'Inf', 'Infinity', 'MAXDIMS', 'MAY_SHARE_BOUNDS', 'MAY_SHARE_EXACT', 'ModuleDeprecationWarning', 'NAN', 'NINF', 'NZERO', 'NaN', 'PINF', 'PZERO', 'RAISE', 'RankWarning', 'SHIFT_DIVIDEBYZERO', 'SHIFT_INVALID', 'SHIFT_OVERFLOW', 'SHIFT_UNDERFLOW', 'ScalarType', 'Tester', 'TooHardError', 'True_', 'UFUNC_BUFSIZE_DEFAULT', 'UFUNC_PYVALS_NAME', 'VisibleDeprecationWarning', 'WRAP', '_CopyMode', '_NoValue', '_UFUNC_API', '__NUMPY_SETUP__', '__all__', '__builtins__', '__cached__', '__config__', '__deprecated_attrs__', '__dir__', '__doc__', '__expired_functions__', '__file__', '__former_attrs__', '__future_scalars__', '__getattr__', '__git_version__', '__loader__', '__mkl_version__', '__name__', '__package__', '__path__', '__spec__', '__version__', '_add_newdoc_ufunc', '_builtins', '_distributor_init', '_financial_names', '_get_promotion_state', '_globals', '_int_extended_msg', '_mat', '_no_nep50_warning', '_pyinstaller_hooks_dir', '_pytesttester', '_set_promotion_state', '_specific_msg', '_version', 'abs', 'absolute', 'add', 'add_docstring', 'add_newdoc', 'add_newdoc_ufunc', 'all', 'allclose', 'alltrue', 'amax', 'amin', 'angle', 'any', 'append', 'apply_along_axis', 'apply_over_axes', 'arange', 'arccos', 'arccosh', 'arcsin', 'arcsinh', 'arctan', 'arctan2', 'arctanh', 'argmax', 'argmin', 'argpartition', 'argsort', 'argwhere', 'around', 'array', 'array2string', 'array_equal', 'array_equiv', 'array_repr', 'array_split', 'array_str', 'asanyarray', 'asarray', 'asarray_chkfinite', 'ascontiguousarray', 'asfarray', 'asfortranarray', 'asmatrix', 'atleast_1d', 'atleast_2d', 'atleast_3d', 'average', 'bartlett', 'base_repr', 'binary_repr', 'bincount', 'bitwise_and', 'bitwise_not', 'bitwise_or', 'bitwise_xor', 'blackman', 'block', 'bmat', 'bool_', 'broadcast', 'broadcast_arrays', 'broadcast_shapes', 'broadcast_to', 'busday_count', 'busday_offset', 'busdaycalendar', 'byte', 'byte_bounds', 'bytes_', 'c_', 'can_cast', 'cast', 'cbrt', 'cdouble', 'ceil', 'cfloat', 'char', 'character', 'chararray', 'choose', 'clip', 'clongdouble', 'clongfloat', 'column_stack', 'common_type', 'compare_chararrays', 'compat', 'complex128', 'complex64', 'complex_', 'complexfloating', 'compress', 'concatenate', 'conj', 'conjugate', 'convolve', 'copy', 'copysign', 'copyto', 'corrcoef', 'correlate', 'cos', 'cosh', 'count_nonzero', 'cov', 'cross', 'csingle', 'ctypeslib', 'cumprod', 'cumproduct', 'cumsum', 'datetime64', 'datetime_as_string', 'datetime_data', 'deg2rad', 'degrees', 'delete', 'deprecate', 'deprecate_with_doc', 'diag', 'diag_indices', 'diag_indices_from', 'diagflat', 'diagonal', 'diff', 'digitize', 'disp', 'divide', 'divmod', 'dot', 'double', 'dsplit', 'dstack', 'dtype', 'e', 'ediff1d', 'einsum', 'einsum_path', 'emath', 'empty', 'empty_like', 'equal', 'errstate', 'euler_gamma', 'exp', 'exp2', 'expand_dims', 'expm1', 'extract', 'eye', 'fabs', 'fastCopyAndTranspose', 'fft', 'fill_diagonal', 'find_common_type', 'finfo', 'fix', 'flatiter', 'flatnonzero', 'flexible', 'flip', 'fliplr', 'flipud', 'float16', 'float32', 'float64', 'float_', 'float_power', 'floating', 'floor', 'floor_divide', 'fmax', 'fmin', 'fmod', 'format_float_positional', 'format_float_scientific', 'format_parser', 'frexp', 'from_dlpack', 'frombuffer', 'fromfile', 'fromfunction', 'fromiter', 'frompyfunc', 'fromregex', 'fromstring', 'full', 'full_like', 'gcd', 'generic', 'genfromtxt', 'geomspace', 'get_array_wrap', 'get_include', 'get_printoptions', 'getbufsize', 'geterr', 'geterrcall', 'geterrobj', 'gradient', 'greater', 'greater_equal', 'half', 'hamming', 'hanning', 'heaviside', 'histogram', 'histogram2d', 'histogram_bin_edges', 'histogramdd', 'hsplit', 'hstack', 'hypot', 'i0', 'identity', 'iinfo', 'imag', 'in1d', 'index_exp', 'indices', 'inexact', 'inf', 'info', 'infty', 'inner', 'insert', 'int16', 'int32', 'int64', 'int8', 'int_', 'intc', 'integer', 'interp', 'intersect1d', 'intp', 'invert', 'is_busday', 'isclose', 'iscomplex', 'iscomplexobj', 'isfinite', 'isfortran', 'isin', 'isinf', 'isnan', 'isnat', 'isneginf', 'isposinf', 'isreal', 'isrealobj', 'isscalar', 'issctype', 'issubclass_', 'issubdtype', 'issubsctype', 'iterable', 'ix_', 'kaiser', 'kron', 'lcm', 'ldexp', 'left_shift', 'less', 'less_equal', 'lexsort', 'lib', 'linalg', 'linspace', 'little_endian', 'load', 'loadtxt', 'log', 'log10', 'log1p', 'log2', 'logaddexp', 'logaddexp2', 'logical_and', 'logical_not', 'logical_or', 'logical_xor', 'logspace', 'longcomplex', 'longdouble', 'longfloat', 'longlong', 'lookfor', 'ma', 'mask_indices', 'mat', 'math', 'matmul', 'matrix', 'max', 'maximum', 'maximum_sctype', 'may_share_memory', 'mean', 'median', 'memmap', 'meshgrid', 'mgrid', 'min', 'min_scalar_type', 'minimum', 'mintypecode', 'mkl', 'mod', 'modf', 'moveaxis', 'msort', 'multiply', 'nan', 'nan_to_num', 'nanargmax', 'nanargmin', 'nancumprod', 'nancumsum', 'nanmax', 'nanmean', 'nanmedian', 'nanmin', 'nanpercentile', 'nanprod', 'nanquantile', 'nanstd', 'nansum', 'nanvar', 'nbytes', 'ndarray', 'ndenumerate', 'ndim', 'ndindex', 'nditer', 'negative', 'nested_iters', 'newaxis', 'nextafter', 'nonzero', 'not_equal', 'numarray', 'number', 'obj2sctype', 'object_', 'ogrid', 'oldnumeric', 'ones', 'ones_like', 'outer', 'packbits', 'pad', 'partition', 'percentile', 'pi', 'piecewise', 'place', 'poly', 'poly1d', 'polyadd', 'polyder', 'polydiv', 'polyfit', 'polyint', 'polymul', 'polynomial', 'polysub', 'polyval', 'positive', 'power', 'printoptions', 'prod', 'product', 'promote_types', 'ptp', 'put', 'put_along_axis', 'putmask', 'quantile', 'r_', 'rad2deg', 'radians', 'random', 'ravel', 'ravel_multi_index', 'real', 'real_if_close', 'rec', 'recarray', 'recfromcsv', 'recfromtxt', 'reciprocal', 'record', 'remainder', 'repeat', 'require', 'reshape', 'resize', 'result_type', 'right_shift', 'rint', 'roll', 'rollaxis', 'roots', 'rot90', 'round', 'round_', 'row_stack', 's_', 'safe_eval', 'save', 'savetxt', 'savez', 'savez_compressed', 'sctype2char', 'sctypeDict', 'sctypes', 'searchsorted', 'select', 'set_numeric_ops', 'set_printoptions', 'set_string_function', 'setbufsize', 'setdiff1d', 'seterr', 'seterrcall', 'seterrobj', 'setxor1d', 'shape', 'shares_memory', 'short', 'show_config', 'show_runtime', 'sign', 'signbit', 'signedinteger', 'sin', 'sinc', 'single', 'singlecomplex', 'sinh', 'size', 'sometrue', 'sort', 'sort_complex', 'source', 'spacing', 'split', 'sqrt', 'square', 'squeeze', 'stack', 'std', 'str_', 'string_', 'subtract', 'sum', 'swapaxes', 'take', 'take_along_axis', 'tan', 'tanh', 'tensordot', 'test', 'testing', 'tile', 'timedelta64', 'trace', 'tracemalloc_domain', 'transpose', 'trapz', 'tri', 'tril', 'tril_indices', 'tril_indices_from', 'trim_zeros', 'triu', 'triu_indices', 'triu_indices_from', 'true_divide', 'trunc', 'typecodes', 'typename', 'ubyte', 'ufunc', 'uint', 'uint16', 'uint32', 'uint64', 'uint8', 'uintc', 'uintp', 'ulonglong', 'unicode_', 'union1d', 'unique', 'unpackbits', 'unravel_index', 'unsignedinteger', 'unwrap', 'use_hugepage', 'ushort', 'vander', 'var', 'vdot', 'vectorize', 'version', 'void', 'vsplit', 'vstack', 'where', 'who', 'zeros', 'zeros_like']\n"
     ]
    }
   ],
   "source": [
    "print(dir(np))"
   ]
  },
  {
   "cell_type": "code",
   "execution_count": 3,
   "id": "b1f1a347",
   "metadata": {},
   "outputs": [
    {
     "data": {
      "text/plain": [
       "598"
      ]
     },
     "execution_count": 3,
     "metadata": {},
     "output_type": "execute_result"
    }
   ],
   "source": [
    "len(dir(np))"
   ]
  },
  {
   "cell_type": "code",
   "execution_count": 4,
   "id": "f5c4e5bd",
   "metadata": {},
   "outputs": [
    {
     "data": {
      "text/plain": [
       "int"
      ]
     },
     "execution_count": 4,
     "metadata": {},
     "output_type": "execute_result"
    }
   ],
   "source": [
    "a = 8\n",
    "type(a)\n",
    "#One integer takes up 4 bytes of memory space."
   ]
  },
  {
   "cell_type": "code",
   "execution_count": 5,
   "id": "6321f633",
   "metadata": {},
   "outputs": [
    {
     "data": {
      "text/plain": [
       "str"
      ]
     },
     "execution_count": 5,
     "metadata": {},
     "output_type": "execute_result"
    }
   ],
   "source": [
    "b = \"A\"\n",
    "type(b)\n",
    "#One character takes up 4 bytes of space."
   ]
  },
  {
   "cell_type": "code",
   "execution_count": null,
   "id": "80df5678",
   "metadata": {},
   "outputs": [],
   "source": [
    "c = \"Akash\"\n",
    "#20 bytes of space. "
   ]
  },
  {
   "cell_type": "markdown",
   "id": "85308214",
   "metadata": {},
   "source": [
    "#### Base Python Data Structure properties:"
   ]
  },
  {
   "cell_type": "code",
   "execution_count": null,
   "id": "a3755500",
   "metadata": {},
   "outputs": [],
   "source": [
    "#1.They are 1-D data structures.\n",
    "#2.They can store homogenous and heterogenous data.\n",
    "#3.Lists, Tuples, Dictionaries, Sets\n",
    "#4.Broadcasting is not allowed in base python.\n",
    "#5. Vectorization is allowed.\n",
    "#6. No efficient memory management is done unlike numpy module."
   ]
  },
  {
   "cell_type": "markdown",
   "id": "0f4a196d",
   "metadata": {},
   "source": [
    "#### Numpy Data Structures properties:"
   ]
  },
  {
   "cell_type": "code",
   "execution_count": null,
   "id": "231b830f",
   "metadata": {},
   "outputs": [],
   "source": [
    "#1. It is n-dimensional.\n",
    "#2. It is a homogenous data structure.\n",
    "#3. Arrays or matrices\n",
    "#4. Braodcasting is allowed.\n",
    "#5. Vectorization(one-to_one mapping) is allowed.\n",
    "#6. EMM (EFFICIENT MEMORY MANAGEMENT). iT SAVES MUCH MEMORY SPACE."
   ]
  },
  {
   "cell_type": "markdown",
   "id": "f33b7453",
   "metadata": {},
   "source": [
    "**In numpy module (in n-dimensional data....Arrays(Matrix_2D)), str datatype is not used instead object datatype is used.**"
   ]
  },
  {
   "cell_type": "markdown",
   "id": "859a844a",
   "metadata": {},
   "source": [
    "# 1. Creating a Numpy array using a list"
   ]
  },
  {
   "cell_type": "code",
   "execution_count": null,
   "id": "58bf65ca",
   "metadata": {},
   "outputs": [],
   "source": [
    "#obj = Numpy()\n",
    "#obj.array()\n",
    "modulename.methodname(parameters)\n",
    "#how to get the parameters of any method.\n",
    "modulename.methodname?                 #mandatory step"
   ]
  },
  {
   "cell_type": "code",
   "execution_count": 9,
   "id": "ebdb0fee",
   "metadata": {},
   "outputs": [
    {
     "data": {
      "text/plain": [
       "[10, 20, 30, 40, 50, 60, 70, 80, 90, 100]"
      ]
     },
     "execution_count": 9,
     "metadata": {},
     "output_type": "execute_result"
    }
   ],
   "source": [
    "lp = list(range(10,101,10))\n",
    "lp"
   ]
  },
  {
   "cell_type": "code",
   "execution_count": null,
   "id": "3c252bee",
   "metadata": {},
   "outputs": [],
   "source": [
    "#t = (1,2,3)\n",
    "#a = np.array(t)"
   ]
  },
  {
   "cell_type": "code",
   "execution_count": 10,
   "id": "df9caf83",
   "metadata": {},
   "outputs": [
    {
     "data": {
      "text/plain": [
       "array([ 10,  20,  30,  40,  50,  60,  70,  80,  90, 100])"
      ]
     },
     "execution_count": 10,
     "metadata": {},
     "output_type": "execute_result"
    }
   ],
   "source": [
    "a1 = np.array(lp)\n",
    "a1"
   ]
  },
  {
   "cell_type": "markdown",
   "id": "727f1d7e",
   "metadata": {},
   "source": [
    "**5 very basic methods we should always use to check the array**"
   ]
  },
  {
   "cell_type": "code",
   "execution_count": 11,
   "id": "bcbdcc8d",
   "metadata": {},
   "outputs": [
    {
     "data": {
      "text/plain": [
       "(10,)"
      ]
     },
     "execution_count": 11,
     "metadata": {},
     "output_type": "execute_result"
    }
   ],
   "source": [
    "a1.shape   #10 rows,1 columns"
   ]
  },
  {
   "cell_type": "code",
   "execution_count": 12,
   "id": "f0092bfc",
   "metadata": {},
   "outputs": [
    {
     "data": {
      "text/plain": [
       "10"
      ]
     },
     "execution_count": 12,
     "metadata": {},
     "output_type": "execute_result"
    }
   ],
   "source": [
    "a1.size    #it is same as len()"
   ]
  },
  {
   "cell_type": "code",
   "execution_count": 13,
   "id": "53dc8d36",
   "metadata": {},
   "outputs": [
    {
     "data": {
      "text/plain": [
       "1"
      ]
     },
     "execution_count": 13,
     "metadata": {},
     "output_type": "execute_result"
    }
   ],
   "source": [
    "a1.ndim   #dimension"
   ]
  },
  {
   "cell_type": "code",
   "execution_count": 14,
   "id": "18f1fc99",
   "metadata": {},
   "outputs": [
    {
     "data": {
      "text/plain": [
       "dtype('int32')"
      ]
     },
     "execution_count": 14,
     "metadata": {},
     "output_type": "execute_result"
    }
   ],
   "source": [
    "a1.dtype  #what kind of data is kept in an array"
   ]
  },
  {
   "cell_type": "markdown",
   "id": "f80234b2",
   "metadata": {},
   "source": [
    "**Arrays are homogenous data structures.**"
   ]
  },
  {
   "cell_type": "code",
   "execution_count": 15,
   "id": "4e853563",
   "metadata": {},
   "outputs": [
    {
     "data": {
      "text/plain": [
       "40"
      ]
     },
     "execution_count": 15,
     "metadata": {},
     "output_type": "execute_result"
    }
   ],
   "source": [
    "a1.nbytes  #how much memory space it is occupying?"
   ]
  },
  {
   "cell_type": "markdown",
   "id": "31b4ada8",
   "metadata": {},
   "source": [
    "# 2. Creating a array using range() directly."
   ]
  },
  {
   "cell_type": "code",
   "execution_count": 16,
   "id": "cea75f48",
   "metadata": {},
   "outputs": [
    {
     "data": {
      "text/plain": [
       "array([  5,  10,  15,  20,  25,  30,  35,  40,  45,  50,  55,  60,  65,\n",
       "        70,  75,  80,  85,  90,  95, 100])"
      ]
     },
     "execution_count": 16,
     "metadata": {},
     "output_type": "execute_result"
    }
   ],
   "source": [
    "a2 = np.array(range(5,101,5))\n",
    "a2"
   ]
  },
  {
   "cell_type": "code",
   "execution_count": 17,
   "id": "4d619523",
   "metadata": {},
   "outputs": [
    {
     "data": {
      "text/plain": [
       "20"
      ]
     },
     "execution_count": 17,
     "metadata": {},
     "output_type": "execute_result"
    }
   ],
   "source": [
    "a2.size"
   ]
  },
  {
   "cell_type": "markdown",
   "id": "a8932312",
   "metadata": {},
   "source": [
    "# 3.Creating n-dimensional(2-D array) from one 1-D array."
   ]
  },
  {
   "cell_type": "code",
   "execution_count": 19,
   "id": "a19323a8",
   "metadata": {},
   "outputs": [
    {
     "data": {
      "text/plain": [
       "array([ 10,  20,  30,  40,  50,  60,  70,  80,  90, 100])"
      ]
     },
     "execution_count": 19,
     "metadata": {},
     "output_type": "execute_result"
    }
   ],
   "source": [
    "a1"
   ]
  },
  {
   "cell_type": "code",
   "execution_count": 20,
   "id": "295c5f57",
   "metadata": {},
   "outputs": [
    {
     "data": {
      "text/plain": [
       "array([[ 10,  20,  30,  40,  50],\n",
       "       [ 60,  70,  80,  90, 100]])"
      ]
     },
     "execution_count": 20,
     "metadata": {},
     "output_type": "execute_result"
    }
   ],
   "source": [
    "a1 = a1.reshape((2,5))\n",
    "a1"
   ]
  },
  {
   "cell_type": "code",
   "execution_count": 21,
   "id": "496e8e47",
   "metadata": {},
   "outputs": [
    {
     "data": {
      "text/plain": [
       "array([[ 10,  20],\n",
       "       [ 30,  40],\n",
       "       [ 50,  60],\n",
       "       [ 70,  80],\n",
       "       [ 90, 100]])"
      ]
     },
     "execution_count": 21,
     "metadata": {},
     "output_type": "execute_result"
    }
   ],
   "source": [
    "a11 = a1.reshape((5,2))\n",
    "a11"
   ]
  },
  {
   "cell_type": "code",
   "execution_count": 22,
   "id": "280da418",
   "metadata": {},
   "outputs": [
    {
     "data": {
      "text/plain": [
       "array([  5,  10,  15,  20,  25,  30,  35,  40,  45,  50,  55,  60,  65,\n",
       "        70,  75,  80,  85,  90,  95, 100])"
      ]
     },
     "execution_count": 22,
     "metadata": {},
     "output_type": "execute_result"
    }
   ],
   "source": [
    "a2"
   ]
  },
  {
   "cell_type": "code",
   "execution_count": 23,
   "id": "599ff8d4",
   "metadata": {},
   "outputs": [
    {
     "data": {
      "text/plain": [
       "20"
      ]
     },
     "execution_count": 23,
     "metadata": {},
     "output_type": "execute_result"
    }
   ],
   "source": [
    "a2.size"
   ]
  },
  {
   "cell_type": "code",
   "execution_count": 24,
   "id": "df11b9b9",
   "metadata": {},
   "outputs": [
    {
     "data": {
      "text/plain": [
       "array([[  5,  10,  15,  20,  25],\n",
       "       [ 30,  35,  40,  45,  50],\n",
       "       [ 55,  60,  65,  70,  75],\n",
       "       [ 80,  85,  90,  95, 100]])"
      ]
     },
     "execution_count": 24,
     "metadata": {},
     "output_type": "execute_result"
    }
   ],
   "source": [
    "a2 = a2.reshape((4,5))\n",
    "a2"
   ]
  },
  {
   "cell_type": "code",
   "execution_count": 26,
   "id": "f6ee422d",
   "metadata": {},
   "outputs": [
    {
     "data": {
      "text/plain": [
       "100"
      ]
     },
     "execution_count": 26,
     "metadata": {},
     "output_type": "execute_result"
    }
   ],
   "source": [
    "a3 = np.array(range(10,1001,10))\n",
    "a3.size"
   ]
  },
  {
   "cell_type": "code",
   "execution_count": 27,
   "id": "b0b9d0f7",
   "metadata": {},
   "outputs": [
    {
     "data": {
      "text/plain": [
       "array([[  10,   20,   30,   40,   50],\n",
       "       [  60,   70,   80,   90,  100],\n",
       "       [ 110,  120,  130,  140,  150],\n",
       "       [ 160,  170,  180,  190,  200],\n",
       "       [ 210,  220,  230,  240,  250],\n",
       "       [ 260,  270,  280,  290,  300],\n",
       "       [ 310,  320,  330,  340,  350],\n",
       "       [ 360,  370,  380,  390,  400],\n",
       "       [ 410,  420,  430,  440,  450],\n",
       "       [ 460,  470,  480,  490,  500],\n",
       "       [ 510,  520,  530,  540,  550],\n",
       "       [ 560,  570,  580,  590,  600],\n",
       "       [ 610,  620,  630,  640,  650],\n",
       "       [ 660,  670,  680,  690,  700],\n",
       "       [ 710,  720,  730,  740,  750],\n",
       "       [ 760,  770,  780,  790,  800],\n",
       "       [ 810,  820,  830,  840,  850],\n",
       "       [ 860,  870,  880,  890,  900],\n",
       "       [ 910,  920,  930,  940,  950],\n",
       "       [ 960,  970,  980,  990, 1000]])"
      ]
     },
     "execution_count": 27,
     "metadata": {},
     "output_type": "execute_result"
    }
   ],
   "source": [
    "a3 = a3.reshape((20,5))\n",
    "a3"
   ]
  },
  {
   "cell_type": "code",
   "execution_count": 28,
   "id": "5b71d488",
   "metadata": {},
   "outputs": [
    {
     "data": {
      "text/plain": [
       "dtype('int32')"
      ]
     },
     "execution_count": 28,
     "metadata": {},
     "output_type": "execute_result"
    }
   ],
   "source": [
    "a3.dtype"
   ]
  },
  {
   "cell_type": "code",
   "execution_count": 30,
   "id": "85bb6064",
   "metadata": {},
   "outputs": [
    {
     "data": {
      "text/plain": [
       "array([ 2.34,  5.67,  8.9 , 10.35])"
      ]
     },
     "execution_count": 30,
     "metadata": {},
     "output_type": "execute_result"
    }
   ],
   "source": [
    "#Creating a array of float values.\n",
    "f_list = [2.34, 5.67,8.90,10.35]\n",
    "af = np.array(f_list)\n",
    "af"
   ]
  },
  {
   "cell_type": "code",
   "execution_count": 31,
   "id": "bdf0cae7",
   "metadata": {},
   "outputs": [
    {
     "data": {
      "text/plain": [
       "dtype('float64')"
      ]
     },
     "execution_count": 31,
     "metadata": {},
     "output_type": "execute_result"
    }
   ],
   "source": [
    "af.dtype"
   ]
  },
  {
   "cell_type": "code",
   "execution_count": 32,
   "id": "e09f6120",
   "metadata": {},
   "outputs": [
    {
     "data": {
      "text/plain": [
       "32"
      ]
     },
     "execution_count": 32,
     "metadata": {},
     "output_type": "execute_result"
    }
   ],
   "source": [
    "af.nbytes"
   ]
  },
  {
   "cell_type": "code",
   "execution_count": null,
   "id": "4022f4d3",
   "metadata": {},
   "outputs": [],
   "source": [
    "#1 float value takes 8 bytes of space."
   ]
  },
  {
   "cell_type": "markdown",
   "id": "6bdac35c",
   "metadata": {},
   "source": [
    "# Efficient Memory Management"
   ]
  },
  {
   "cell_type": "markdown",
   "id": "f3a2d8b6",
   "metadata": {},
   "source": [
    "#### Integers"
   ]
  },
  {
   "cell_type": "code",
   "execution_count": 35,
   "id": "dc9511a4",
   "metadata": {},
   "outputs": [
    {
     "data": {
      "text/plain": [
       "dtype('int32')"
      ]
     },
     "execution_count": 35,
     "metadata": {},
     "output_type": "execute_result"
    }
   ],
   "source": [
    "a1.dtype"
   ]
  },
  {
   "cell_type": "code",
   "execution_count": 39,
   "id": "d559c4e9",
   "metadata": {},
   "outputs": [
    {
     "data": {
      "text/plain": [
       "array([  5,  10,  15,  20,  25,  30,  35,  40,  45,  50,  55,  60,  65,\n",
       "        70,  75,  80,  85,  90,  95, 100], dtype=int8)"
      ]
     },
     "execution_count": 39,
     "metadata": {},
     "output_type": "execute_result"
    }
   ],
   "source": [
    "a2_new = np.array(range(5,101,5),dtype = np.int8)\n",
    "a2_new\n"
   ]
  },
  {
   "cell_type": "code",
   "execution_count": 40,
   "id": "0d4f2d4d",
   "metadata": {},
   "outputs": [
    {
     "data": {
      "text/plain": [
       "dtype('int8')"
      ]
     },
     "execution_count": 40,
     "metadata": {},
     "output_type": "execute_result"
    }
   ],
   "source": [
    "a2_new.dtype"
   ]
  },
  {
   "cell_type": "markdown",
   "id": "79b908ce",
   "metadata": {},
   "source": [
    "#### Strings or categorical data"
   ]
  },
  {
   "cell_type": "code",
   "execution_count": 43,
   "id": "03bd8307",
   "metadata": {},
   "outputs": [
    {
     "data": {
      "text/plain": [
       "array([['Vijay', 'Himanshu'],\n",
       "       ['Kajol', 'Akash'],\n",
       "       ['Swagath', 'Dhivya'],\n",
       "       ['Pavithra', 'Gaya']], dtype='<U8')"
      ]
     },
     "execution_count": 43,
     "metadata": {},
     "output_type": "execute_result"
    }
   ],
   "source": [
    "names = ['Vijay','Himanshu','Kajol','Akash','Swagath','Dhivya','Pavithra','Gaya']\n",
    "ar_name = np.array(names)\n",
    "ar_name = ar_name.reshape((4,2))\n",
    "ar_name"
   ]
  },
  {
   "cell_type": "code",
   "execution_count": 44,
   "id": "ddb8fe69",
   "metadata": {},
   "outputs": [
    {
     "data": {
      "text/plain": [
       "dtype('<U8')"
      ]
     },
     "execution_count": 44,
     "metadata": {},
     "output_type": "execute_result"
    }
   ],
   "source": [
    "ar_name.dtype   "
   ]
  },
  {
   "cell_type": "markdown",
   "id": "ca9dc657",
   "metadata": {},
   "source": [
    "**np.full(shape, fill_value, dtype)**"
   ]
  },
  {
   "cell_type": "code",
   "execution_count": 47,
   "id": "643f6f39",
   "metadata": {},
   "outputs": [
    {
     "data": {
      "text/plain": [
       "array([['H', 'H', 'H'],\n",
       "       ['H', 'H', 'H'],\n",
       "       ['H', 'H', 'H']], dtype='<U1')"
      ]
     },
     "execution_count": 47,
     "metadata": {},
     "output_type": "execute_result"
    }
   ],
   "source": [
    "a_ex1 = np.full((3,3),'Himanshu',dtype = str)  #because in numpy(2D), str does not provide flexible amount of space to the string data.\n",
    "a_ex1"
   ]
  },
  {
   "cell_type": "code",
   "execution_count": null,
   "id": "d584aa57",
   "metadata": {},
   "outputs": [],
   "source": [
    "#Object datatype provides flexible or variable amount of memry space for the data. "
   ]
  },
  {
   "cell_type": "code",
   "execution_count": 49,
   "id": "a63fc1af",
   "metadata": {},
   "outputs": [
    {
     "data": {
      "text/plain": [
       "array([['Himanshu', 'Himanshu', 'Himanshu'],\n",
       "       ['Himanshu', 'Himanshu', 'Himanshu'],\n",
       "       ['Himanshu', 'Himanshu', 'Himanshu']], dtype=object)"
      ]
     },
     "execution_count": 49,
     "metadata": {},
     "output_type": "execute_result"
    }
   ],
   "source": [
    "a_ex2 = np.full((3,3),'Himanshu',dtype = np.object_) # default dataype of string data in n-dimensional data is Object (O or U).\n",
    "a_ex2"
   ]
  },
  {
   "cell_type": "code",
   "execution_count": 51,
   "id": "6fd4d09d",
   "metadata": {},
   "outputs": [
    {
     "data": {
      "text/plain": [
       "dtype('O')"
      ]
     },
     "execution_count": 51,
     "metadata": {},
     "output_type": "execute_result"
    }
   ],
   "source": [
    "a_ex2.dtype"
   ]
  },
  {
   "cell_type": "code",
   "execution_count": 52,
   "id": "c77e8a57",
   "metadata": {},
   "outputs": [
    {
     "data": {
      "text/plain": [
       "array([['This data Science course is very complex and big.',\n",
       "        'This data Science course is very complex and big.',\n",
       "        'This data Science course is very complex and big.'],\n",
       "       ['This data Science course is very complex and big.',\n",
       "        'This data Science course is very complex and big.',\n",
       "        'This data Science course is very complex and big.'],\n",
       "       ['This data Science course is very complex and big.',\n",
       "        'This data Science course is very complex and big.',\n",
       "        'This data Science course is very complex and big.']],\n",
       "      dtype=object)"
      ]
     },
     "execution_count": 52,
     "metadata": {},
     "output_type": "execute_result"
    }
   ],
   "source": [
    "a_ex3 = np.full((3,3),'This data Science course is very complex and big.',dtype = np.object_)\n",
    "a_ex3"
   ]
  },
  {
   "cell_type": "markdown",
   "id": "1a982ccb",
   "metadata": {},
   "source": [
    "**np.arange() is a combination of array and range**"
   ]
  },
  {
   "cell_type": "code",
   "execution_count": 53,
   "id": "c740db5a",
   "metadata": {},
   "outputs": [
    {
     "data": {
      "text/plain": [
       "array([ 10,  20,  30,  40,  50,  60,  70,  80,  90, 100])"
      ]
     },
     "execution_count": 53,
     "metadata": {},
     "output_type": "execute_result"
    }
   ],
   "source": [
    "a101 = np.array(range(10,101,10))\n",
    "a101"
   ]
  },
  {
   "cell_type": "code",
   "execution_count": 54,
   "id": "4c4fea3d",
   "metadata": {},
   "outputs": [
    {
     "data": {
      "text/plain": [
       "array([ 10,  20,  30,  40,  50,  60,  70,  80,  90, 100])"
      ]
     },
     "execution_count": 54,
     "metadata": {},
     "output_type": "execute_result"
    }
   ],
   "source": [
    "a102 = np.arange(10,101,10)\n",
    "a102"
   ]
  },
  {
   "cell_type": "code",
   "execution_count": 55,
   "id": "c18803c0",
   "metadata": {},
   "outputs": [
    {
     "data": {
      "text/plain": [
       "array([[ 10,  20,  30,  40,  50],\n",
       "       [ 60,  70,  80,  90, 100]])"
      ]
     },
     "execution_count": 55,
     "metadata": {},
     "output_type": "execute_result"
    }
   ],
   "source": [
    "a102 = a102.reshape((2,5))  #2 rows, 5 columns\n",
    "a102"
   ]
  },
  {
   "cell_type": "markdown",
   "id": "a264f0fc",
   "metadata": {},
   "source": [
    "**Transposing an array**"
   ]
  },
  {
   "cell_type": "code",
   "execution_count": 56,
   "id": "747749dd",
   "metadata": {},
   "outputs": [
    {
     "data": {
      "text/plain": [
       "array([[ 10,  60],\n",
       "       [ 20,  70],\n",
       "       [ 30,  80],\n",
       "       [ 40,  90],\n",
       "       [ 50, 100]])"
      ]
     },
     "execution_count": 56,
     "metadata": {},
     "output_type": "execute_result"
    }
   ],
   "source": [
    "a102_t = a102.T            #5rows, 2 columns\n",
    "a102_t"
   ]
  },
  {
   "cell_type": "markdown",
   "id": "58addbc2",
   "metadata": {},
   "source": [
    "### What is the difference between Broadcasting and Vectorization?"
   ]
  },
  {
   "cell_type": "code",
   "execution_count": null,
   "id": "7dc4ae41",
   "metadata": {},
   "outputs": [],
   "source": [
    "#Broadcasting means performing same or different operations on multiple elements at the same time."
   ]
  },
  {
   "cell_type": "code",
   "execution_count": null,
   "id": "cfdb7a77",
   "metadata": {},
   "outputs": [],
   "source": [
    "#Broadcasting is a very useful, efficient and fast method to do operations. \n",
    "#If Broadcasting was allowed in base python, then looping was not all needed."
   ]
  },
  {
   "cell_type": "code",
   "execution_count": 57,
   "id": "55b0450e",
   "metadata": {},
   "outputs": [
    {
     "ename": "TypeError",
     "evalue": "unsupported operand type(s) for /: 'list' and 'int'",
     "output_type": "error",
     "traceback": [
      "\u001b[1;31m---------------------------------------------------------------------------\u001b[0m",
      "\u001b[1;31mTypeError\u001b[0m                                 Traceback (most recent call last)",
      "Cell \u001b[1;32mIn[57], line 2\u001b[0m\n\u001b[0;32m      1\u001b[0m l \u001b[38;5;241m=\u001b[39m [\u001b[38;5;241m10\u001b[39m,\u001b[38;5;241m20\u001b[39m,\u001b[38;5;241m30\u001b[39m,\u001b[38;5;241m40\u001b[39m,\u001b[38;5;241m50\u001b[39m]  \u001b[38;5;66;03m#divide every element by 5\u001b[39;00m\n\u001b[1;32m----> 2\u001b[0m l\u001b[38;5;241m/\u001b[39m\u001b[38;5;241m5\u001b[39m\n",
      "\u001b[1;31mTypeError\u001b[0m: unsupported operand type(s) for /: 'list' and 'int'"
     ]
    }
   ],
   "source": [
    "l = [10,20,30,40,50]  #divide every element by 5\n",
    "l/5"
   ]
  },
  {
   "cell_type": "code",
   "execution_count": null,
   "id": "a037c82d",
   "metadata": {},
   "outputs": [],
   "source": [
    "#Broadcasting"
   ]
  },
  {
   "cell_type": "code",
   "execution_count": 59,
   "id": "4759e19d",
   "metadata": {},
   "outputs": [
    {
     "ename": "TypeError",
     "evalue": "can only assign an iterable",
     "output_type": "error",
     "traceback": [
      "\u001b[1;31m---------------------------------------------------------------------------\u001b[0m",
      "\u001b[1;31mTypeError\u001b[0m                                 Traceback (most recent call last)",
      "Cell \u001b[1;32mIn[59], line 3\u001b[0m\n\u001b[0;32m      1\u001b[0m l \u001b[38;5;241m=\u001b[39m[\u001b[38;5;241m1\u001b[39m,\u001b[38;5;241m1\u001b[39m,\u001b[38;5;241m1\u001b[39m,\u001b[38;5;241m2000\u001b[39m,\u001b[38;5;241m3000\u001b[39m,\u001b[38;5;241m4000\u001b[39m]\n\u001b[0;32m      2\u001b[0m \u001b[38;5;66;03m#by mistake, we have entered wrong values in the first three indexes..Please replace all the 1s with 1000.\u001b[39;00m\n\u001b[1;32m----> 3\u001b[0m l[\u001b[38;5;241m0\u001b[39m:\u001b[38;5;241m3\u001b[39m] \u001b[38;5;241m=\u001b[39m \u001b[38;5;241m1000\u001b[39m\n",
      "\u001b[1;31mTypeError\u001b[0m: can only assign an iterable"
     ]
    }
   ],
   "source": [
    "l =[1,1,1,2000,3000,4000]\n",
    "#by mistake, we have entered wrong values in the first three indexes..Please replace all the 1s with 1000.\n",
    "l[0:3] = 1000    #we are providing single value to multiple indexes at the same time.\n"
   ]
  },
  {
   "cell_type": "code",
   "execution_count": 60,
   "id": "966a77b2",
   "metadata": {},
   "outputs": [],
   "source": [
    "#Vectorization\n",
    "l[0:3] = [1000,1000,1000]"
   ]
  },
  {
   "cell_type": "code",
   "execution_count": 61,
   "id": "5c809a29",
   "metadata": {},
   "outputs": [
    {
     "data": {
      "text/plain": [
       "[1000, 1000, 1000, 2000, 3000, 4000]"
      ]
     },
     "execution_count": 61,
     "metadata": {},
     "output_type": "execute_result"
    }
   ],
   "source": [
    "l"
   ]
  },
  {
   "cell_type": "code",
   "execution_count": 58,
   "id": "7491f740",
   "metadata": {},
   "outputs": [
    {
     "data": {
      "text/plain": [
       "[2, 'Akash', 5]"
      ]
     },
     "execution_count": 58,
     "metadata": {},
     "output_type": "execute_result"
    }
   ],
   "source": [
    "l = [2,'Swagath',5]\n",
    "l[1] = 'Akash'            #indexing/slicing        [indexes] : slicers\n",
    "l"
   ]
  },
  {
   "cell_type": "markdown",
   "id": "2d8eefe6",
   "metadata": {},
   "source": [
    "# BUT, Broadcasting is allowed in Numpy Arrays:"
   ]
  },
  {
   "cell_type": "code",
   "execution_count": 62,
   "id": "45ee27e6",
   "metadata": {},
   "outputs": [
    {
     "data": {
      "text/plain": [
       "array([[  5,  10,  15,  20,  25],\n",
       "       [ 30,  35,  40,  45,  50],\n",
       "       [ 55,  60,  65,  70,  75],\n",
       "       [ 80,  85,  90,  95, 100]])"
      ]
     },
     "execution_count": 62,
     "metadata": {},
     "output_type": "execute_result"
    }
   ],
   "source": [
    "a5 = np.arange(5,101,5)\n",
    "a5 = a5.reshape((4,5))\n",
    "a5"
   ]
  },
  {
   "cell_type": "markdown",
   "id": "235d52fd",
   "metadata": {},
   "source": [
    "**Because broadcasting is allowed in arrays, NO NEED OF USING LOOPING.**"
   ]
  },
  {
   "cell_type": "code",
   "execution_count": 63,
   "id": "af143487",
   "metadata": {},
   "outputs": [
    {
     "data": {
      "text/plain": [
       "array([[  50,  100,  150,  200,  250],\n",
       "       [ 300,  350,  400,  450,  500],\n",
       "       [ 550,  600,  650,  700,  750],\n",
       "       [ 800,  850,  900,  950, 1000]])"
      ]
     },
     "execution_count": 63,
     "metadata": {},
     "output_type": "execute_result"
    }
   ],
   "source": [
    "a5_updated = a5*10\n",
    "a5_updated"
   ]
  },
  {
   "cell_type": "code",
   "execution_count": 64,
   "id": "71fd78c1",
   "metadata": {},
   "outputs": [
    {
     "data": {
      "text/plain": [
       "array([[  5,  10,  15,  20,  25],\n",
       "       [ 30,  35,  40,  45,  50],\n",
       "       [ 55,  60,  65,  70,  75],\n",
       "       [ 80,  85,  90,  95, 100]])"
      ]
     },
     "execution_count": 64,
     "metadata": {},
     "output_type": "execute_result"
    }
   ],
   "source": [
    "#Vectorization\n",
    "a6 = np.arange(5,101,5)\n",
    "a6 = a6.reshape((4,5))\n",
    "a6"
   ]
  },
  {
   "cell_type": "code",
   "execution_count": 65,
   "id": "5410f43b",
   "metadata": {},
   "outputs": [
    {
     "data": {
      "text/plain": [
       "array([[ 45,  90, 135, 180, 225],\n",
       "       [270, 315, 360, 405, 450],\n",
       "       [495, 540, 585, 630, 675],\n",
       "       [720, 765, 810, 855, 900]])"
      ]
     },
     "execution_count": 65,
     "metadata": {},
     "output_type": "execute_result"
    }
   ],
   "source": [
    "result_a = a5_updated - a6\n",
    "result_a"
   ]
  }
 ],
 "metadata": {
  "kernelspec": {
   "display_name": "Python 3 (ipykernel)",
   "language": "python",
   "name": "python3"
  },
  "language_info": {
   "codemirror_mode": {
    "name": "ipython",
    "version": 3
   },
   "file_extension": ".py",
   "mimetype": "text/x-python",
   "name": "python",
   "nbconvert_exporter": "python",
   "pygments_lexer": "ipython3",
   "version": "3.11.5"
  }
 },
 "nbformat": 4,
 "nbformat_minor": 5
}
